{
 "cells": [
  {
   "cell_type": "markdown",
   "metadata": {},
   "source": [
    "---\n",
    "<h1 align='center',style='bold'>Mathnasium Summer Camp<h1>\n",
    "<h2 align='center'>Introduction to Python<h2>\n",
    "\n",
    "---"
   ]
  },
  {
   "cell_type": "markdown",
   "metadata": {},
   "source": [
    "\n",
    "In today's activity we'll be learning about one of the most popular coding languages worlwide! This language is so versatile that it's commonly used in software engineering, as well as in scientific research. <b>READ</b> the following information to understand how to read and write Python code. You can run each cell of this notebook by clicking the run icon on the top right corner of the cell or pressing `ctrl + enter` after clicking on the cell.\n",
    "\n",
    "\n",
    "### Variables and Assignment statements\n",
    "- Basic data types in Python include integers, strings, and floating-point numbers.\n",
    "\n",
    "- Every value has a type.\n",
    "\n",
    "- Use the built-in function `type` to find the type of a value.\n",
    "\n",
    "- Types control what operations can be done on values.\n",
    "\n",
    "- Numbers are stored as integers or floating-point numbers.\n",
    "\n",
    "- Use `variable = value` to assign a value to a variable in order to record it in memory.\n",
    "\n",
    "- Variables are created on demand whenever a value is assigned to them. Variables only change value when something is assigned to them.\n",
    "\n",
    "- Use `print(something)` to display the value of something.\n",
    "\n",
    "- Variables persist between cells in your Jupyter notebook.\n",
    "\n",
    "- Variables must be created before they are used.\n",
    "\n",
    "- Variables can be used in calculations.\n",
    "\n",
    "- Python is case-sensitive.\n",
    "\n",
    "- Use meaningful variable names. It makes your code more readable/easier to understand when you return to it weeks or months later."
   ]
  },
  {
   "cell_type": "code",
   "execution_count": 1,
   "metadata": {},
   "outputs": [
    {
     "name": "stdout",
     "output_type": "stream",
     "text": [
      "Hello World!\n",
      "In Mathnasium there are 33 students.\n",
      "Data type of 'place' variable: <class 'str'>\n",
      "Data type of 'number_of_students' variable: <class 'int'>\n"
     ]
    }
   ],
   "source": [
    "# Examples\n",
    "\n",
    "# Assigning a string to a variable\n",
    "place = \"Mathnasium\"\n",
    "\n",
    "# Assigning a number (integer) to a variable\n",
    "number_of_students = 33\n",
    "\n",
    "# Print statement\n",
    "print(\"Hello World!\")\n",
    "\n",
    "# Printing to display the values of these variables\n",
    "print(\"In\", place, \"there are\", number_of_students, \"students.\")\n",
    "\n",
    "# Printing the data type of 'place' and 'number_of_students' variables\n",
    "print(\"Data type of 'place' variable:\", type(place))\n",
    "print(\"Data type of 'number_of_students' variable:\", type(number_of_students))"
   ]
  },
  {
   "cell_type": "markdown",
   "metadata": {},
   "source": [
    "---"
   ]
  },
  {
   "cell_type": "markdown",
   "metadata": {},
   "source": [
    "### Operations\n",
    "\n",
    "- When we are working with numerical data types we can use several mathematical expressions to operate on these variables.\n",
    "\n",
    "- These opeartions are: `+` (addition), `-` (subtraction), `*` (multiplication), `/` (division), `**` (exponentiation)\n",
    "\n",
    "- The order of operations in python follows <b>PEMDAS</b>: <b>P</b>arenthesis, <b>E</b>xponentiation, <b>MD</b>(Multiplication/Division), <b>AS</b>(Addition/Subtraction)"
   ]
  },
  {
   "cell_type": "code",
   "execution_count": 2,
   "metadata": {},
   "outputs": [
    {
     "name": "stdout",
     "output_type": "stream",
     "text": [
      "Addition of 6 + 4 = 10\n",
      "Subtraction of 6 - 4 = 2\n",
      "Multiplication of 6 * 4 = 24\n",
      "Division of 6 / 4 = 1.5\n",
      "Exponentiation of 6 ** 4 = 1296\n"
     ]
    }
   ],
   "source": [
    "# Examples\n",
    "A = 6\n",
    "B = 4\n",
    "C = A + B\n",
    "D = A - B\n",
    "E = A*B\n",
    "F = A/B\n",
    "G = A**B\n",
    "\n",
    "print(\"Addition of\",A,\"+\",B,\"=\",C)\n",
    "print(\"Subtraction of\",A,\"-\",B,\"=\",D)\n",
    "print(\"Multiplication of\",A,\"*\",B,\"=\",E)\n",
    "print(\"Division of\",A,\"/\",B,\"=\",F)\n",
    "print(\"Exponentiation of\",A,\"**\",B,\"=\",G)"
   ]
  },
  {
   "cell_type": "markdown",
   "metadata": {},
   "source": [
    "---"
   ]
  },
  {
   "cell_type": "markdown",
   "metadata": {},
   "source": [
    "### Lists\n",
    "\n",
    "- `list = [value1, value2, value3, ...]` creates a list.\n",
    "\n",
    "- Lists can contain any Python object, including lists (i.e., list of lists).\n",
    "\n",
    "- Lists are indexed and sliced with square brackets (e.g., `list[0]` and `list[2:9]`). Note, this slicing is done in the same way for strings and arrays.\n",
    "\n",
    "- Lists are mutable, which means that their values can be changed. In contrast, strings are immutable (i.e., the characters in them cannot be changed).\n",
    "\n",
    "- Use `len(thing)` to determine the length of something that contains other values."
   ]
  },
  {
   "cell_type": "code",
   "execution_count": 7,
   "metadata": {},
   "outputs": [
    {
     "name": "stdout",
     "output_type": "stream",
     "text": [
      "Length of word 'string': 6\n",
      "Lenght of list: 6\n"
     ]
    }
   ],
   "source": [
    "# Examples\n",
    "\n",
    "# Using len to determine the length of a string\n",
    "print(\"Length of word 'string':\",len(\"string\"))\n",
    "\n",
    "# Creating a list that contains 6 strings (each of which is a letter)\n",
    "list = ['s', 't', 'r', 'i', 'n', 'g']\n",
    "\n",
    "# Using len to determine the length of this list\n",
    "print(\"Lenght of list:\",len(list))"
   ]
  },
  {
   "cell_type": "markdown",
   "metadata": {},
   "source": [
    "---"
   ]
  },
  {
   "cell_type": "markdown",
   "metadata": {},
   "source": [
    "### Boolean Values and Conditional (`if`) statements\n",
    "\n",
    "- Use `if` condition to start a conditional statement, `elif` condition to provide additional tests, and `else` to provide a default.\n",
    "\n",
    "- The bodies of the branches of conditional statements must be indented.\n",
    "\n",
    "- Use `==` to test for equality.\n",
    "\n",
    "- Zero, the empty string, and the empty list are considered false; all other numbers, strings, and lists are considered true.\n",
    "\n",
    "- `True` and `False` represent truth values (aka Boolean values)."
   ]
  },
  {
   "cell_type": "code",
   "execution_count": 9,
   "metadata": {},
   "outputs": [
    {
     "name": "stdout",
     "output_type": "stream",
     "text": [
      "They are not equal\n",
      "10 is less than 20\n"
     ]
    }
   ],
   "source": [
    "# Example\n",
    "\n",
    "# Condition to check if numbers are equal\n",
    "X = 10\n",
    "Y = 20\n",
    "if X == Y:\n",
    "    print(\"They are equal\")\n",
    "else:\n",
    "    print(\"They are not equal\")\n",
    "\n",
    "# Condition to check which number is greater or equal\n",
    "if X < Y:\n",
    "    print(X,\"is less than\",Y)\n",
    "elif X > Y:\n",
    "    print(X,\"is greater than\",Y)\n",
    "else:\n",
    "    print(X,'is equal to',Y)"
   ]
  },
  {
   "cell_type": "markdown",
   "metadata": {},
   "source": [
    "---"
   ]
  },
  {
   "cell_type": "markdown",
   "metadata": {},
   "source": [
    "### Creating your own functions\n",
    "\n",
    "- Define a function using `def function_name(arguments):`.\n",
    "\n",
    "- The body of a function must be indented.\n",
    "\n",
    "- Call a function using `function_name(arguments)`.\n",
    "\n",
    "- Variables defined within a function can only be seen and used within the body of the function.\n",
    "\n",
    "- If a variable is not defined within the function it is used, Python looks for a definition before the function call\n",
    "\n",
    "- `Use help(thing)` to view help for something.\n",
    "\n",
    "- Put docstrings in functions to provide help for that function."
   ]
  },
  {
   "cell_type": "code",
   "execution_count": 18,
   "metadata": {},
   "outputs": [],
   "source": [
    "# Example\n",
    "\n",
    "# Define a function that multiplies the input by 10\n",
    "def Times10(number):\n",
    "    '''Function takes in a number and multiplies it by 10'''\n",
    "    new_number = number*10\n",
    "    return new_number\n",
    "\n",
    "def Addition(numbers):\n",
    "    '''Function returns the summation of all numbers in list'''\n",
    "    cum_sum = 0\n",
    "    for value in numbers:\n",
    "        cum_sum = cum_sum + value\n",
    "    return cum_sum"
   ]
  },
  {
   "cell_type": "markdown",
   "metadata": {},
   "source": [
    "---"
   ]
  },
  {
   "cell_type": "markdown",
   "metadata": {},
   "source": [
    "### Using `for` loops to repeat processes\n",
    "\n",
    "- Use `for variable in sequence:` to process the elements of a sequence one at a time.\n",
    "\n",
    "- This sequence can be a string, a list or an array.\n",
    "\n",
    "- The body of a `for` loop must be indented."
   ]
  },
  {
   "cell_type": "code",
   "execution_count": 15,
   "metadata": {},
   "outputs": [
    {
     "name": "stdout",
     "output_type": "stream",
     "text": [
      "1\n",
      "2\n",
      "3\n",
      "4\n",
      "5\n",
      "\n",
      "M\n",
      "a\n",
      "t\n",
      "h\n",
      "n\n",
      "a\n",
      "s\n",
      "i\n",
      "u\n",
      "m\n"
     ]
    }
   ],
   "source": [
    "# Example\n",
    "\n",
    "# Iterate through each element of the list\n",
    "ls = [1,2,3,4,5]\n",
    "for number in ls:\n",
    "    print(number)\n",
    "\n",
    "# Print empty space\n",
    "print()\n",
    "# Iterate through each letter of a string\n",
    "name = \"Mathnasium\"\n",
    "for letter in name:\n",
    "    print(letter)"
   ]
  }
 ],
 "metadata": {
  "kernelspec": {
   "display_name": "Python 3",
   "language": "python",
   "name": "python3"
  },
  "language_info": {
   "codemirror_mode": {
    "name": "ipython",
    "version": 3
   },
   "file_extension": ".py",
   "mimetype": "text/x-python",
   "name": "python",
   "nbconvert_exporter": "python",
   "pygments_lexer": "ipython3",
   "version": "3.10.2"
  }
 },
 "nbformat": 4,
 "nbformat_minor": 2
}
