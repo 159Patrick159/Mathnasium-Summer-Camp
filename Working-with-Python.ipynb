{
 "cells": [
  {
   "cell_type": "markdown",
   "metadata": {},
   "source": [
    "---\n",
    "<h1 align='center',style='bold'>Mathnasium Summer Camp<h1>\n",
    "<h2 align='center'>Working with Python<h2>\n",
    "\n",
    "---"
   ]
  },
  {
   "cell_type": "markdown",
   "metadata": {},
   "source": [
    "Now that we have a basic understanding of Python and we know how to write code in this language lets attempt to complete some common Python tasks. \n",
    "\n",
    "## Task 1:\n",
    "a) Write a simple print statement of your favorite animal"
   ]
  },
  {
   "cell_type": "code",
   "execution_count": null,
   "metadata": {},
   "outputs": [],
   "source": [
    "# Your code goes below\n"
   ]
  },
  {
   "cell_type": "markdown",
   "metadata": {},
   "source": [
    "b) Write a for loop that prints each color of the list `colors`."
   ]
  },
  {
   "cell_type": "code",
   "execution_count": null,
   "metadata": {},
   "outputs": [],
   "source": [
    "colors = [\"Red\",\"Blue\",\"Yellow\",\"Orange\",\"Green\",\"Purple\"]\n",
    "# Your code goes below\n"
   ]
  },
  {
   "cell_type": "markdown",
   "metadata": {},
   "source": [
    "c) Now write a for loop the prints the length of each work in the list `colors`."
   ]
  },
  {
   "cell_type": "code",
   "execution_count": null,
   "metadata": {},
   "outputs": [],
   "source": [
    "# Your code goes below"
   ]
  },
  {
   "cell_type": "markdown",
   "metadata": {},
   "source": [
    "d) Now write a for loop that calculates the sum of the lengths of each word in the list `colors`."
   ]
  },
  {
   "cell_type": "code",
   "execution_count": null,
   "metadata": {},
   "outputs": [],
   "source": [
    "# Your code goes below"
   ]
  },
  {
   "cell_type": "markdown",
   "metadata": {},
   "source": [
    "---\n",
    "## Challenge Question: Finding the Average of a List of Numbers\n",
    "---\n",
    "Now you have all the knowledge needed to write a function that computes the average of a list of numbers. Rememebrr that to find the average of a list of numbers you need the followning equation:\n",
    "\n",
    "$$\n",
    "\\mu = \\frac{\\sum_i^N x_i}{N}.\n",
    "$$\n",
    "\n",
    "Where $(\\mu)$ is the greek letter used to represent the value of the average, $\\left(\\sum_i^N x_i\\right)$ is the sum of all the $x$ terms, and $N$ is the total number of terms in the list of numbers.\n",
    "\n",
    "**For example:** if we consider the following list of numbers `[3,4,2,6,3,4,5]` the equation for the average expands as follows:\n",
    "\n",
    "$$\n",
    "\\begin{align*}\n",
    "\\mu = \\frac{\\sum_i^N x_i}{N} &= \\frac{x_1 + x_2 + x_3 + x_4 + x_5 + x_6 + x_7}{7}\\\\\n",
    "&= \\frac{3 + 4 + 2 + 6 + 3 + 4 + 5}{7}\\\\\n",
    "&= \\frac{27}{7}\\\\\n",
    "\\mu &= 3\\frac{6}{7} \\approx 3.85\n",
    "\\end{align*}\n",
    "$$\n",
    "\n",
    "**Hint:** To implement this in python you will need to create a `for loop` that sums all the numbers in a list of numbers and then divide that total by the length of that list."
   ]
  },
  {
   "cell_type": "code",
   "execution_count": null,
   "metadata": {},
   "outputs": [],
   "source": [
    "# Find the average of the following list of numbers:\n",
    "numbers = [3,5,7,1,8,5,9,3,4,6,3,4,6]\n",
    "\n",
    "# Your code goes below"
   ]
  }
 ],
 "metadata": {
  "kernelspec": {
   "display_name": "Python 3",
   "language": "python",
   "name": "python3"
  },
  "language_info": {
   "codemirror_mode": {
    "name": "ipython",
    "version": 3
   },
   "file_extension": ".py",
   "mimetype": "text/x-python",
   "name": "python",
   "nbconvert_exporter": "python",
   "pygments_lexer": "ipython3",
   "version": "3.10.2"
  }
 },
 "nbformat": 4,
 "nbformat_minor": 2
}
